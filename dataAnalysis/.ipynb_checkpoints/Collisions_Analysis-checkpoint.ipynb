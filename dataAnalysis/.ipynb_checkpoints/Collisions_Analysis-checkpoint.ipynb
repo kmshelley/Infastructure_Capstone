{
 "cells": [
  {
   "cell_type": "code",
   "execution_count": 13,
   "metadata": {
    "collapsed": false
   },
   "outputs": [
    {
     "name": "stdout",
     "output_type": "stream",
     "text": [
      "169.53.138.92\n"
     ]
    }
   ],
   "source": [
    "%matplotlib inline\n",
    "\n",
    "from elasticsearch import Elasticsearch, helpers\n",
    "import seaborn as sns\n",
    "import pandas as pd\n",
    "import ConfigParser\n",
    "\n",
    "#read in the config file\n",
    "config = ConfigParser.ConfigParser()\n",
    "config.read('../config/capstone_config.ini')\n",
    "\n",
    "#Elasticsearch conf\n",
    "ES_url = config.get('ElasticSearch','host')\n",
    "ES_hosts = config.get('ElasticSearch','hostlist')\n",
    "ES_password = config.get('ElasticSearch','password')\n",
    "ES_username= config.get('ElasticSearch','username')\n",
    "print ES_url"
   ]
  },
  {
   "cell_type": "code",
   "execution_count": null,
   "metadata": {
    "collapsed": false
   },
   "outputs": [],
   "source": [
    "es = Elasticsearch('http://%s:%s@%s:9200' % (ES_username,ES_password,ES_url))\n",
    "collisions = list(helpers.scan(es,index='saferoad',doc_type='collisions'))\n",
    "print len(collisions)"
   ]
  },
  {
   "cell_type": "code",
   "execution_count": null,
   "metadata": {
    "collapsed": true
   },
   "outputs": [],
   "source": []
  }
 ],
 "metadata": {
  "kernelspec": {
   "display_name": "Python 2",
   "language": "python",
   "name": "python2"
  },
  "language_info": {
   "codemirror_mode": {
    "name": "ipython",
    "version": 2
   },
   "file_extension": ".py",
   "mimetype": "text/x-python",
   "name": "python",
   "nbconvert_exporter": "python",
   "pygments_lexer": "ipython2",
   "version": "2.7.9"
  }
 },
 "nbformat": 4,
 "nbformat_minor": 0
}
