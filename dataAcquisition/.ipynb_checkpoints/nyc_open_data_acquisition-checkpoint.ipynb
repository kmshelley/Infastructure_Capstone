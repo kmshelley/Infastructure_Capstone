{
 "cells": [
  {
   "cell_type": "code",
   "execution_count": 9,
   "metadata": {
    "collapsed": false
   },
   "outputs": [
    {
     "name": "stdout",
     "output_type": "stream",
     "text": [
      "169.53.138.84\n"
     ]
    }
   ],
   "source": [
    "#lat/lon grid class\n",
    "import sys\n",
    "import os\n",
    "\n",
    "from elasticsearch import Elasticsearch\n",
    "from elasticsearch import helpers\n",
    "from elasticsearch.client import indices\n",
    "\n",
    "import ConfigParser\n",
    "\n",
    "from sodapy import Socrata\n",
    "\n",
    "#read in the config file\n",
    "#os.chdir('~/Infrastructure_Capstone')\n",
    "config = ConfigParser.ConfigParser()\n",
    "config.read('../config/capstone_config.ini')\n",
    "\n",
    "ES_url = config.get('ElasticSearch','host')\n",
    "ES_password = config.get('ElasticSearch','password')\n",
    "ES_username= config.get('ElasticSearch','username')\n",
    "\n",
    "print ES_url"
   ]
  },
  {
   "cell_type": "code",
   "execution_count": 10,
   "metadata": {
    "collapsed": false
   },
   "outputs": [
    {
     "ename": "NameError",
     "evalue": "name 'sc' is not defined",
     "output_type": "error",
     "traceback": [
      "\u001b[1;31m---------------------------------------------------------------------------\u001b[0m",
      "\u001b[1;31mNameError\u001b[0m                                 Traceback (most recent call last)",
      "\u001b[1;32m<ipython-input-10-ee8101b8fe58>\u001b[0m in \u001b[0;36m<module>\u001b[1;34m()\u001b[0m\n\u001b[1;32m----> 1\u001b[1;33m \u001b[1;32mprint\u001b[0m \u001b[0msc\u001b[0m\u001b[1;33m\u001b[0m\u001b[0m\n\u001b[0m",
      "\u001b[1;31mNameError\u001b[0m: name 'sc' is not defined"
     ]
    }
   ],
   "source": [
    "print sc"
   ]
  },
  {
   "cell_type": "code",
   "execution_count": 6,
   "metadata": {
    "collapsed": true
   },
   "outputs": [],
   "source": [
    "zip_codes = ['10065', '10069', '10453', '10452', '10451', '10457', '10456',\n",
    "             '10455', '10454', '10459', '10458', '11232', '10103', '11233',\n",
    "             '11385', '11234', '11235', '11222', '11237', '11218', '10282',\n",
    "             '10280', '10119', '10115', '10112', '10110', '10111', '11109',\n",
    "             '11379', '11378', '11375', '11374', '11377', '11101', '11371',\n",
    "             '11370', '11373', '11372', '11102', '11223', '11103', '10803',\n",
    "             '11229', '10040', '11106', '11228', '10044', '11201', '11203',\n",
    "             '10128', '11205', '11104', '11207', '11226', '11209', '11208',\n",
    "             '11105', '11225', '11224', '11368', '11369', '11366', '11367',\n",
    "             '11364', '11365', '11362', '11363', '11360', '11361', '11221',\n",
    "             '11220', '11040', '11212', '11213', '11210', '11211', '10039',\n",
    "             '10038', '11214', '11215', '10035', '10034', '10037', '10036',\n",
    "             '10031', '10030', '10033', '10032', '11359', '11358', '11005',\n",
    "             '11004', '11697', '11351', '11357', '11356', '11355', '11354',\n",
    "             '11216', '11435', '11451', '11217', '10309', '10308', '10307',\n",
    "             '10306', '10305', '10304', '10303', '10302', '10301', '10028',\n",
    "             '10029', '10026', '10027', '10024', '10025', '10022', '10023',\n",
    "             '10020', '10021', '11429', '11219', '10271', '10168', '11230',\n",
    "             '11428', '11421', '11420', '11423', '11422', '11425', '11424',\n",
    "             '11427', '11426', '10152', '10153', '10154', '10310', '10311',\n",
    "             '10312', '10314', '11001', '11231', '10009', '11238', '11239',\n",
    "             '10019', '10018', '10013', '10012', '10011', '10010', '10017',\n",
    "             '10016', '11236', '10014', '11693', '10002', '11432', '11433',\n",
    "             '11430', '11436', '11694', '11434', '11204', '10004', '10005',\n",
    "             '10006', '10007', '10001', '10169', '10003', '10167', '11692',\n",
    "             '10165', '11206', '10162', '10279', '10278', '10475', '10474',\n",
    "             '10471', '10470', '10473', '10472', '11691', '10075', '10170',\n",
    "             '10171', '10172', '10173', '10174', '10177', '10466', '10467',\n",
    "             '10464', '10465', '10462', '10463', '10460', '10461', '10468',\n",
    "             '10469', '11411', '11412', '11413', '11414', '11415', '11416',\n",
    "             '11417', '11418', '11419']"
   ]
  },
  {
   "cell_type": "code",
   "execution_count": 7,
   "metadata": {
    "collapsed": true
   },
   "outputs": [],
   "source": [
    "api_key = 'BWiAhuSnXE3WLESaDagpgOoxM'\n",
    "\n",
    "def registration_counter(row):\n",
    "    out = {}\n",
    "    out['registered'] = 1\n",
    "    out['scofflawed'] = 0 if row['Scofflaw Indicator'] == 'N' else 1\n",
    "    out['suspended'] = 0 if row['Suspension Indicator'] == 'N' else 1\n",
    "    out['revoked'] = 0 if row['Revocation Indicator'] == 'N' else 1\n",
    "    return out\n",
    "    \n",
    "    \n",
    "\n",
    "def get_car_registration_data():\n",
    "    client = Socrata(\"data.ny.gov\",api_key)\n",
    "    registration = sc.parallelize(client.get('w4pv-hbkt')) #load NY state auto registration data into an RDD\n",
    "    \n",
    "    #add up registered, scofflawed, suspended and revoked vehicles\n",
    "    nyc_reg = (registration.filter(lambda row: row['Zip'] in zip_codes and row['Record Type'] == 'VEH')\n",
    "                            .map(lambda row: (row['Zip'],registration_counter(row)))\n",
    "                            .reduceByKey(lambda x,y: {k:x[k] + y[k] for k in x})\n",
    "              )\n",
    "    \n",
    "    return nyc_reg\n",
    "    \n",
    "    "
   ]
  },
  {
   "cell_type": "code",
   "execution_count": 8,
   "metadata": {
    "collapsed": false
   },
   "outputs": [
    {
     "ename": "NameError",
     "evalue": "global name 'sc' is not defined",
     "output_type": "error",
     "traceback": [
      "\u001b[1;31m---------------------------------------------------------------------------\u001b[0m",
      "\u001b[1;31mNameError\u001b[0m                                 Traceback (most recent call last)",
      "\u001b[1;32m<ipython-input-8-327b640ecda0>\u001b[0m in \u001b[0;36m<module>\u001b[1;34m()\u001b[0m\n\u001b[1;32m----> 1\u001b[1;33m \u001b[0mnyc_reg\u001b[0m \u001b[1;33m=\u001b[0m \u001b[0mget_car_registration_data\u001b[0m\u001b[1;33m(\u001b[0m\u001b[1;33m)\u001b[0m\u001b[1;33m\u001b[0m\u001b[0m\n\u001b[0m\u001b[0;32m      2\u001b[0m \u001b[0mnyc_reg\u001b[0m\u001b[1;33m.\u001b[0m\u001b[0mtake\u001b[0m\u001b[1;33m(\u001b[0m\u001b[1;36m3\u001b[0m\u001b[1;33m)\u001b[0m\u001b[1;33m\u001b[0m\u001b[0m\n",
      "\u001b[1;32m<ipython-input-7-a7c15236379e>\u001b[0m in \u001b[0;36mget_car_registration_data\u001b[1;34m()\u001b[0m\n\u001b[0;32m     13\u001b[0m \u001b[1;32mdef\u001b[0m \u001b[0mget_car_registration_data\u001b[0m\u001b[1;33m(\u001b[0m\u001b[1;33m)\u001b[0m\u001b[1;33m:\u001b[0m\u001b[1;33m\u001b[0m\u001b[0m\n\u001b[0;32m     14\u001b[0m     \u001b[0mclient\u001b[0m \u001b[1;33m=\u001b[0m \u001b[0mSocrata\u001b[0m\u001b[1;33m(\u001b[0m\u001b[1;34m\"data.ny.gov\"\u001b[0m\u001b[1;33m,\u001b[0m\u001b[0mapi_key\u001b[0m\u001b[1;33m)\u001b[0m\u001b[1;33m\u001b[0m\u001b[0m\n\u001b[1;32m---> 15\u001b[1;33m     \u001b[0mregistration\u001b[0m \u001b[1;33m=\u001b[0m \u001b[0msc\u001b[0m\u001b[1;33m.\u001b[0m\u001b[0mparallelize\u001b[0m\u001b[1;33m(\u001b[0m\u001b[0mclient\u001b[0m\u001b[1;33m.\u001b[0m\u001b[0mget\u001b[0m\u001b[1;33m(\u001b[0m\u001b[1;34m'w4pv-hbkt'\u001b[0m\u001b[1;33m)\u001b[0m\u001b[1;33m)\u001b[0m \u001b[1;31m#load NY state auto registration data into an RDD\u001b[0m\u001b[1;33m\u001b[0m\u001b[0m\n\u001b[0m\u001b[0;32m     16\u001b[0m \u001b[1;33m\u001b[0m\u001b[0m\n\u001b[0;32m     17\u001b[0m     \u001b[1;31m#add up registered, scofflawed, suspended and revoked vehicles\u001b[0m\u001b[1;33m\u001b[0m\u001b[1;33m\u001b[0m\u001b[0m\n",
      "\u001b[1;31mNameError\u001b[0m: global name 'sc' is not defined"
     ]
    }
   ],
   "source": [
    "nyc_reg = get_car_registration_data()\n",
    "nyc_reg.take(3)"
   ]
  },
  {
   "cell_type": "code",
   "execution_count": null,
   "metadata": {
    "collapsed": true
   },
   "outputs": [],
   "source": [
    "es_write_conf = {\n",
    "        \"es.nodes\" : ES_url,\n",
    "        \"es.port\" : \"9200\",\n",
    "        \"es.net.http.auth.user\" : ES_username, \n",
    "        \"es.net.http.auth.pass\" : ES_password,\n",
    "        \"es.resource\" : \"dataframe_plus_weather/rows\",\n",
    "        \"es.mapping.id\" : \"grid_id\"\n",
    "    } "
   ]
  },
  {
   "cell_type": "code",
   "execution_count": null,
   "metadata": {
    "collapsed": true
   },
   "outputs": [],
   "source": [
    "updated_rdd.saveAsNewAPIHadoopFile(\n",
    "            path='-', \n",
    "            outputFormatClass=\"org.elasticsearch.hadoop.mr.EsOutputFormat\",\n",
    "            keyClass=\"org.apache.hadoop.io.NullWritable\", \n",
    "            valueClass=\"org.elasticsearch.hadoop.mr.LinkedMapWritable\", \n",
    "            conf=es_write_conf)"
   ]
  }
 ],
 "metadata": {
  "kernelspec": {
   "display_name": "Python 2",
   "language": "python",
   "name": "python2"
  },
  "language_info": {
   "codemirror_mode": {
    "name": "ipython",
    "version": 2
   },
   "file_extension": ".py",
   "mimetype": "text/x-python",
   "name": "python",
   "nbconvert_exporter": "python",
   "pygments_lexer": "ipython2",
   "version": "2.7.11"
  }
 },
 "nbformat": 4,
 "nbformat_minor": 0
}
